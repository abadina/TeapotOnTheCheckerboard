{
 "cells": [
  {
   "cell_type": "markdown",
   "metadata": {},
   "source": [
    "Importing modules"
   ]
  },
  {
   "cell_type": "code",
   "execution_count": 1,
   "metadata": {},
   "outputs": [],
   "source": [
    "import numpy as np\n",
    "import cv2\n",
    "import glob\n",
    "\n",
    "# This is a value for the termination criterion of the subpixel corner localizer\n",
    "criteria = (cv2.TERM_CRITERIA_EPS + cv2.TERM_CRITERIA_MAX_ITER, 30, 0.001)"
   ]
  },
  {
   "cell_type": "markdown",
   "metadata": {},
   "source": [
    "Creation of the 3D point coordinates and loading images"
   ]
  },
  {
   "cell_type": "code",
   "execution_count": 2,
   "metadata": {},
   "outputs": [
    {
     "name": "stdout",
     "output_type": "stream",
     "text": [
      "['left1.jpg', 'left11.jpg', 'left12.jpg', 'left13.jpg', 'left14.jpg', 'left2.jpg', 'left3.jpg', 'left4.jpg', 'left5.jpg', 'left6.jpg', 'left7.jpg', 'left8.jpg', 'left9.jpg']\n"
     ]
    }
   ],
   "source": [
    "# Here you have 3D points for the checkerboard (0,0,0), (1,0,0), (2,0,0) ....,(6,5,0)\n",
    "objp = np.zeros((6*7,3), np.float32)\n",
    "objp[:,:2] = np.mgrid[0:7,0:6].T.reshape(-1,2)\n",
    "# Here you load the image files\n",
    "images = glob.glob('left*.jpg')\n",
    "\n",
    "print(images)\n"
   ]
  },
  {
   "cell_type": "markdown",
   "metadata": {},
   "source": [
    "Cell 1"
   ]
  },
  {
   "cell_type": "code",
   "execution_count": 3,
   "metadata": {},
   "outputs": [
    {
     "name": "stdout",
     "output_type": "stream",
     "text": [
      "[[ 0  0  1 ...  0  0  4]\n",
      " [ 0  1  3 ...  4  5  8]\n",
      " [ 2  3  5 ...  9  6  3]\n",
      " ...\n",
      " [11 37 40 ... 48 40  1]\n",
      " [10 34 34 ... 55 51 17]\n",
      " [ 0 11  9 ... 16 17  0]]\n"
     ]
    }
   ],
   "source": [
    "# Arrays to store object points and image points from all the images.\n",
    "objpoints = [] # 3d point in real world space\n",
    "imgpoints = [] # 2d points in image plane.\n",
    "for fname in images:\n",
    "    #reading an image\n",
    "    img = cv2.imread(fname)\n",
    "    # transforming the image to gray scale\n",
    "    gray = cv2.cvtColor(img,cv2.COLOR_BGR2GRAY)\n",
    "\n",
    "    # Find the chess board corners\n",
    "    ret, corners = cv2.findChessboardCorners(gray, (7,6),None)\n",
    "\n",
    "    # If found, add object points, image points (after refining them)\n",
    "    if ret == True:\n",
    "        objpoints.append(objp)\n",
    "\n",
    "        corners2 = cv2.cornerSubPix(gray,corners,(11,11),(-1,-1),criteria)\n",
    "        imgpoints.append(corners2)\n",
    "        \n",
    "print(gray)"
   ]
  },
  {
   "cell_type": "markdown",
   "metadata": {},
   "source": [
    "Cell 2"
   ]
  },
  {
   "cell_type": "code",
   "execution_count": 4,
   "metadata": {},
   "outputs": [],
   "source": [
    "retval, mtx, dist, rvecs, tvecs = cv2.calibrateCamera(objpoints, imgpoints, gray.shape[::-1],None,None)\n",
    "\n"
   ]
  },
  {
   "cell_type": "code",
   "execution_count": 5,
   "metadata": {},
   "outputs": [
    {
     "name": "stdout",
     "output_type": "stream",
     "text": [
      "rotation vector size 11\n"
     ]
    }
   ],
   "source": [
    "print(\"rotation vector size\",len(rvecs))"
   ]
  },
  {
   "cell_type": "code",
   "execution_count": 6,
   "metadata": {},
   "outputs": [
    {
     "name": "stdout",
     "output_type": "stream",
     "text": [
      "[[-1.71567758e-01  1.87263569e-01 -5.95662314e-01 -8.66156342e-02\n",
      "   2.92013665e-03  1.00149201e-03 -6.18367988e-01 -2.92546038e-02\n",
      "   1.72145599e-01]\n",
      " [-3.01348673e-03 -1.68243202e-01 -1.68040168e-02 -6.07150468e-03\n",
      "   1.02874559e-01 -6.33860496e-01 -1.14490950e-02 -6.11154822e-01\n",
      "  -1.01932325e-01]\n",
      " [ 3.63491234e-02  9.59898087e-01  1.63153958e-01 -9.88151199e-01\n",
      "   2.08566158e-02  8.83447305e-02  9.82260643e-04 -1.85534473e-01\n",
      "  -3.22219819e-02]]\n",
      "\n",
      "\n",
      "[[-6.20737374e-02  4.53221692e-02 -6.34147649e-01 -2.35518525e-01\n",
      "   2.18575575e-01 -5.72805534e-01 -5.90532272e-01  5.91631924e-01\n",
      "   2.77725519e-01]\n",
      " [ 1.51681237e-01 -4.29434977e-02  6.08267728e-01 -2.36400941e-01\n",
      "  -4.38747621e-02 -5.97713045e-01 -5.89441337e-01 -6.41328423e-01\n",
      "   1.91311551e-01]\n",
      " [ 9.76679941e-01  1.83754907e-02 -1.77250997e-01  4.50899835e-04\n",
      "   9.69499168e-01  8.49524830e-02  1.62064465e-02 -1.95888212e-01\n",
      "  -2.01493544e-02]]\n",
      "\n",
      "\n",
      "[[ 0.07148307  0.05376496 -0.68910036  0.30683827 -0.15513357 -0.44937011\n",
      "  -0.61935471  0.48598949 -0.21652454]\n",
      " [-0.24942225 -0.10101669  0.44999683  0.3143682   0.1121215  -0.60045707\n",
      "  -0.41337746 -0.67020272 -0.35539514]\n",
      " [ 0.90503297  0.28299925  0.25297723 -0.24637988  0.92393062 -0.05220792\n",
      "  -0.16240766  0.20086538 -0.041208  ]]\n",
      "\n",
      "\n",
      "[[-0.02549232 -0.25801802  0.54081887 -0.13249465  0.12199561 -0.68962024\n",
      "   0.58438302  0.67382773  0.14200697]\n",
      " [ 0.32358509 -0.23958394  0.62296247  0.09994288 -0.06255437  0.56594378\n",
      "  -0.63875499  0.52237963  0.38411315]\n",
      " [-0.93236041 -0.20852607  0.11995425  0.19273355 -0.95079966 -0.19748996\n",
      "  -0.21957258 -0.0719666   0.02427775]]\n",
      "\n",
      "\n",
      "[[ 0.06532904  0.11537451 -0.60015264  0.40432041 -0.28113635 -0.57565174\n",
      "  -0.45827882  0.62734338 -0.32108455]\n",
      " [-0.43245813 -0.0716864   0.5600536   0.38515714  0.09125179 -0.43376183\n",
      "  -0.50836197 -0.57563566 -0.50765697]\n",
      " [ 0.88076152 -0.15530525  0.34520894  0.20699688  0.9052785   0.04017567\n",
      "  -0.1116346   0.32912158 -0.05721108]]\n",
      "\n",
      "\n",
      "[[-0.09818045  0.00251152 -0.6899455  -0.19609365  0.03477681 -0.10067187\n",
      "  -0.66149708  0.12823332  0.12900932]\n",
      " [ 0.05013857  0.08380304  0.1166261  -0.21172987 -0.14448587 -0.65025175\n",
      "  -0.08906465 -0.67870018  0.19197134]\n",
      " [ 0.35002921  0.9213616  -0.11749735 -0.89380015  0.36127453  0.14434428\n",
      "   0.17803555 -0.05426088 -0.02976727]]\n",
      "\n",
      "\n",
      "[[-1.51211109e-01  8.36981020e-02 -6.19005699e-01 -1.54664049e-01\n",
      "   1.86828298e-04  2.40544630e-02 -6.05187954e-01 -6.58190110e-03\n",
      "   1.50385061e-01]\n",
      " [ 9.08390556e-04 -1.91604513e-02  4.59382342e-03 -1.32940798e-01\n",
      "  -7.29986739e-02 -6.19319677e-01  1.28787385e-02 -6.33137422e-01\n",
      "   7.17851567e-02]\n",
      " [ 1.56701347e-02  9.90961236e-01  1.72574343e-02 -9.73488674e-01\n",
      "   1.53841227e-03  1.54574868e-01  1.31037781e-01 -8.37872830e-02\n",
      "  -2.24721160e-02]]\n",
      "\n",
      "\n",
      "[[-0.0971945   0.07560506 -0.6660369  -0.30125277  0.24253865 -0.45479634\n",
      "  -0.59880552  0.48840564  0.33373725]\n",
      " [ 0.16802757 -0.03985894  0.51464937 -0.2973044  -0.06873763 -0.61192489\n",
      "  -0.48104007 -0.67915627  0.2279882 ]\n",
      " [ 0.94185935  0.21753635 -0.2061058  -0.18392705  0.92873998  0.13556569\n",
      "   0.05133966 -0.24129214 -0.03607912]]\n",
      "\n",
      "\n",
      "[[-0.04729604  0.27169135 -0.54983314  0.04574643  0.20058019 -0.64652174\n",
      "  -0.61158804  0.62246509  0.2413011 ]\n",
      " [-0.26059535 -0.26774877  0.60567819  0.027814    0.0600815  -0.6050487\n",
      "  -0.62973485 -0.54329379 -0.31565046]\n",
      " [ 0.95344971 -0.12943308  0.06853491  0.10537643  0.95998906  0.21663625\n",
      "  -0.22702785 -0.00930868 -0.02492961]]\n",
      "\n",
      "\n",
      "[[-0.03737558  0.1798802  -0.51518657 -0.04355383  0.23897204 -0.71998477\n",
      "  -0.54394591  0.71051997  0.27512936]\n",
      " [-0.12012442 -0.19421222  0.73217353 -0.08275594  0.01956143 -0.55107217\n",
      "  -0.74163833 -0.52231283 -0.13724362]\n",
      " [ 0.93325799 -0.31585417 -0.04659863  0.30638938  0.92613173  0.16276099\n",
      "  -0.15805491 -0.06067304 -0.01184761]]\n",
      "\n",
      "\n",
      "[[-0.05979936  0.13016774 -0.55396203 -0.20213937  0.32068146 -0.63729046\n",
      "  -0.53193726  0.6451826   0.37995775]\n",
      " [ 0.0631512  -0.16132022  0.70016024 -0.22540781 -0.01283839 -0.5516374\n",
      "  -0.6922681  -0.57366218  0.07327733]\n",
      " [ 0.9528177  -0.21091901 -0.16613152  0.21881115  0.93311755  0.14029386\n",
      "  -0.10204393 -0.19201324 -0.0212222 ]]\n",
      "\n",
      "\n"
     ]
    }
   ],
   "source": [
    "for rvec in rvecs:\n",
    "    R,jacobian=cv2.Rodrigues(rvec)\n",
    "    print(jacobian)\n",
    "    print(\"\\n\")"
   ]
  },
  {
   "cell_type": "code",
   "execution_count": 7,
   "metadata": {},
   "outputs": [
    {
     "name": "stdout",
     "output_type": "stream",
     "text": [
      "[[-0.96172702 -0.01012322  0.27382232]\n",
      " [-0.03510698 -0.98652886 -0.1597758 ]\n",
      " [ 0.27175107 -0.16327378  0.94841606]]\n",
      "\n",
      "\n",
      "[[-0.00572681  0.99739943  0.07184414]\n",
      " [-0.92863032 -0.03195676  0.3696275 ]\n",
      " [ 0.37096216 -0.06459986  0.92639837]]\n",
      "\n",
      "\n",
      "[[-0.30887909  0.9501694   0.04209285]\n",
      " [-0.83758618 -0.25077985 -0.48534406]\n",
      " [-0.45060304 -0.18516902  0.87330941]]\n",
      "\n",
      "\n",
      "[[ 0.14620389 -0.89550824 -0.4203444 ]\n",
      " [ 0.96337408  0.22544365 -0.14520858]\n",
      " [ 0.22479946 -0.38371885  0.89567017]]\n",
      "\n",
      "\n",
      "[[ 0.09449387  0.97566706  0.19785017]\n",
      " [-0.75316188  0.20002654 -0.62668698]\n",
      " [-0.65101313 -0.08979513  0.75373652]]\n",
      "\n",
      "\n",
      "[[-0.92086474  0.36672175  0.13237558]\n",
      " [-0.31481472 -0.89968619  0.30241768]\n",
      " [ 0.22999962  0.23681199  0.94393869]]\n",
      "\n",
      "\n",
      "[[-0.97102471  0.01119766  0.23871662]\n",
      " [ 0.01646123 -0.99339509  0.11355711]\n",
      " [ 0.23841149  0.11419633  0.96442686]]\n",
      "\n",
      "\n",
      "[[-0.19398737  0.97117073  0.13855077]\n",
      " [-0.86334948 -0.23607533  0.44597771]\n",
      " [ 0.46582892 -0.03310369  0.88425537]]\n",
      "\n",
      "\n",
      "[[ 0.09035979  0.89591846  0.43493129]\n",
      " [-0.9925907   0.1166383  -0.03404703]\n",
      " [-0.08123301 -0.42863228  0.89981974]]\n",
      "\n",
      "\n",
      "[[ 0.3196801   0.90154405  0.29158697]\n",
      " [-0.94599805  0.28620967  0.15222259]\n",
      " [ 0.05378036 -0.32450324  0.94435445]]\n",
      "\n",
      "\n",
      "[[ 0.24448145  0.94949021  0.19671593]\n",
      " [-0.91522284  0.15894416  0.37027545]\n",
      " [ 0.32030607 -0.27056439  0.90785403]]\n",
      "\n",
      "\n",
      "[array([[-0.96172702, -0.01012322,  0.27382232],\n",
      "       [-0.03510698, -0.98652886, -0.1597758 ],\n",
      "       [ 0.27175107, -0.16327378,  0.94841606]]), array([[-0.00572681,  0.99739943,  0.07184414],\n",
      "       [-0.92863032, -0.03195676,  0.3696275 ],\n",
      "       [ 0.37096216, -0.06459986,  0.92639837]]), array([[-0.30887909,  0.9501694 ,  0.04209285],\n",
      "       [-0.83758618, -0.25077985, -0.48534406],\n",
      "       [-0.45060304, -0.18516902,  0.87330941]]), array([[ 0.14620389, -0.89550824, -0.4203444 ],\n",
      "       [ 0.96337408,  0.22544365, -0.14520858],\n",
      "       [ 0.22479946, -0.38371885,  0.89567017]]), array([[ 0.09449387,  0.97566706,  0.19785017],\n",
      "       [-0.75316188,  0.20002654, -0.62668698],\n",
      "       [-0.65101313, -0.08979513,  0.75373652]]), array([[-0.92086474,  0.36672175,  0.13237558],\n",
      "       [-0.31481472, -0.89968619,  0.30241768],\n",
      "       [ 0.22999962,  0.23681199,  0.94393869]]), array([[-0.97102471,  0.01119766,  0.23871662],\n",
      "       [ 0.01646123, -0.99339509,  0.11355711],\n",
      "       [ 0.23841149,  0.11419633,  0.96442686]]), array([[-0.19398737,  0.97117073,  0.13855077],\n",
      "       [-0.86334948, -0.23607533,  0.44597771],\n",
      "       [ 0.46582892, -0.03310369,  0.88425537]]), array([[ 0.09035979,  0.89591846,  0.43493129],\n",
      "       [-0.9925907 ,  0.1166383 , -0.03404703],\n",
      "       [-0.08123301, -0.42863228,  0.89981974]]), array([[ 0.3196801 ,  0.90154405,  0.29158697],\n",
      "       [-0.94599805,  0.28620967,  0.15222259],\n",
      "       [ 0.05378036, -0.32450324,  0.94435445]]), array([[ 0.24448145,  0.94949021,  0.19671593],\n",
      "       [-0.91522284,  0.15894416,  0.37027545],\n",
      "       [ 0.32030607, -0.27056439,  0.90785403]])]\n",
      "11\n"
     ]
    }
   ],
   "source": [
    "Rm=[]\n",
    "for rvec in rvecs:\n",
    "    R,jacobian=cv2.Rodrigues(rvec)\n",
    "    Rm.append(R)\n",
    "    print(R)\n",
    "    print(\"\\n\")\n",
    "    \n",
    "print(Rm)\n",
    "print(len(Rm))"
   ]
  },
  {
   "cell_type": "markdown",
   "metadata": {},
   "source": [
    "Camera matrix refinement"
   ]
  },
  {
   "cell_type": "code",
   "execution_count": 8,
   "metadata": {},
   "outputs": [],
   "source": [
    "img = cv2.imread('left12.jpg')\n",
    "h,  w = img.shape[:2]\n",
    "newcameramtx, roi=cv2.getOptimalNewCameraMatrix(mtx,dist,(w,h),1,(w,h))"
   ]
  },
  {
   "cell_type": "markdown",
   "metadata": {},
   "source": [
    "Cell 3"
   ]
  },
  {
   "cell_type": "code",
   "execution_count": 9,
   "metadata": {},
   "outputs": [
    {
     "data": {
      "text/plain": [
       "True"
      ]
     },
     "execution_count": 9,
     "metadata": {},
     "output_type": "execute_result"
    }
   ],
   "source": [
    "# 1\n",
    "dst = cv2.undistort(img, mtx, dist, None, newcameramtx)\n",
    "\n",
    "# crop the image\n",
    "x,y,w,h = roi\n",
    "dst = dst[y:y+h, x:x+w]\n",
    "cv2.imwrite('calibresult1.png',dst)\n",
    "\n",
    "\n",
    "# 2\n",
    "mapx,mapy = cv2.initUndistortRectifyMap(mtx,dist,None,newcameramtx,(w,h),5)\n",
    "dst = cv2.remap(img,mapx,mapy,cv2.INTER_LINEAR)\n",
    "\n",
    "# crop the image\n",
    "x,y,w,h = roi\n",
    "dst = dst[y:y+h, x:x+w]\n",
    "cv2.imwrite('calibresult2.png',dst)"
   ]
  },
  {
   "cell_type": "markdown",
   "metadata": {},
   "source": [
    "Cell 4"
   ]
  },
  {
   "cell_type": "code",
   "execution_count": 10,
   "metadata": {},
   "outputs": [
    {
     "name": "stdout",
     "output_type": "stream",
     "text": [
      "total error:  0.023686000375385673\n"
     ]
    }
   ],
   "source": [
    "tot_error = 0\n",
    "for i in range(len(objpoints)):\n",
    "    imgpoints2, _ = cv2.projectPoints(objpoints[i], rvecs[i], tvecs[i], mtx, dist)\n",
    "    error = cv2.norm(imgpoints[i],imgpoints2, cv2.NORM_L2)/len(imgpoints2)\n",
    "    tot_error += error\n",
    "\n",
    "print(\"total error: \", tot_error/len(objpoints))"
   ]
  },
  {
   "cell_type": "markdown",
   "metadata": {
    "collapsed": true
   },
   "source": [
    "# Part B"
   ]
  },
  {
   "cell_type": "markdown",
   "metadata": {},
   "source": [
    "# # 1"
   ]
  },
  {
   "cell_type": "markdown",
   "metadata": {},
   "source": [
    "Load teapot point cloud coordinates"
   ]
  },
  {
   "cell_type": "code",
   "execution_count": 11,
   "metadata": {},
   "outputs": [],
   "source": [
    "import pandas as pd\n",
    "import matplotlib.animation"
   ]
  },
  {
   "cell_type": "code",
   "execution_count": 12,
   "metadata": {},
   "outputs": [],
   "source": [
    "# Load from text file\n",
    "tp= np.loadtxt(\"teapot.txt\",usecols=range(3))\n",
    "# Number of points in the cloud\n",
    "n_points = np.shape(tp)\n",
    "# Transpose and add a fourth coordinate with unitary value \n",
    "# (homogeneous coordinates)\n",
    "tp = np.hstack((tp,np.ones((n_points[0],1),dtype=np.float))).T\n",
    "# Save it in a data frame\n",
    "df = pd.DataFrame({\"x\" : tp[0,:], \"y\" :tp[1,:], \"z\" : tp[2,:], \n",
    "                                                \"w\": tp[3,:]})"
   ]
  },
  {
   "cell_type": "code",
   "execution_count": 13,
   "metadata": {},
   "outputs": [],
   "source": [
    "# Scaling matrix\n",
    "def scaling_matrix(s):\n",
    "    # Scales are given in numpy array s\n",
    "    # s=np.array([s_x,s_y,s_z])\n",
    "    \n",
    "    # Write the scaling matrix here\n",
    "    S = np.identity(4)\n",
    "    S[:3, :3] = np.diag(s)\n",
    "    \n",
    "    return S\n",
    "\n",
    "# Translation matrix\n",
    "def translation_matrix(t):\n",
    "    # Translation vector is given in numpy array t\n",
    "    # t=np.array([t_x,t_y,t_z])\n",
    "    \n",
    "    # Write the translation matrix here\n",
    "    T = np.identity(4)\n",
    "    T[:3, 3] = t\n",
    "    \n",
    "    return T\n",
    "\n",
    "# Rotation matrix\n",
    "def rotation_matrix(theta, v):\n",
    "    # Axis for rotation (unit norm vector) is given \n",
    "    # is given in numpy array v\n",
    "    # v=np.array([v_x,v_y,v_z])\n",
    "    # Rotation angle is given in theta\n",
    "    \n",
    "    # Write the rotation matrix here\n",
    "    st = np.sin(theta)\n",
    "    ct = np.cos(theta)\n",
    "    o_ct = 1-ct\n",
    "    vx2= v[0]**2\n",
    "    vy2= v[1]**2\n",
    "    vz2= v[2]**2\n",
    "    vxy = v[0]*v[1]\n",
    "    vxz = v[0]*v[2]\n",
    "    vyz= v[1]*v[2]\n",
    "    # Rotation\n",
    "    R = [[ct+vx2*o_ct, vxy*o_ct-v[2]*st, vxz*o_ct+v[1]*st],\n",
    "         [vxy*o_ct+v[2]*st, ct+vy2*o_ct, vyz*o_ct-v[0]*st],\n",
    "         [vxz*o_ct-v[1]*st, vyz*o_ct+v[0]*st, ct+vz2*o_ct]]\n",
    "    R_v = np.identity(4)\n",
    "    R_v[:3, :3] = R\n",
    "    \n",
    "    return R_v"
   ]
  },
  {
   "cell_type": "markdown",
   "metadata": {},
   "source": [
    "mtx : intrinsic matrix (Mint)\n",
    "R: rotation matrix\n",
    "t: translation matrix\n",
    "\n",
    "[R t] : extrinsic matrix (Mext)\n",
    "\n",
    "\n",
    "Camera matrix= Mint Mext"
   ]
  },
  {
   "cell_type": "code",
   "execution_count": 14,
   "metadata": {},
   "outputs": [
    {
     "name": "stdout",
     "output_type": "stream",
     "text": [
      "[[-9.61727018e-01 -1.01232220e-02  2.73822321e-01  3.79739146e+00]\n",
      " [-3.51069793e-02 -9.86528861e-01 -1.59775803e-01  8.98950175e-01]\n",
      " [ 2.71751068e-01 -1.63273781e-01  9.48416063e-01  1.48593055e+01]]\n",
      "\n",
      "\n",
      "[[-5.72680869e-03  9.97399430e-01  7.18441363e-02 -2.89985494e+00]\n",
      " [-9.28630323e-01 -3.19567624e-02  3.69627499e-01  2.62066993e+00]\n",
      " [ 3.70962163e-01 -6.45998576e-02  9.26398366e-01  1.05769926e+01]]\n",
      "\n",
      "\n",
      "[[-0.30887909  0.9501694   0.04209285 -1.22339632]\n",
      " [-0.83758618 -0.25077985 -0.48534406  3.52139948]\n",
      " [-0.45060304 -0.18516902  0.87330941 15.67311789]]\n",
      "\n",
      "\n",
      "[[ 0.14620389 -0.89550824 -0.4203444   1.81888151]\n",
      " [ 0.96337408  0.22544365 -0.14520858 -4.2642919 ]\n",
      " [ 0.22479946 -0.38371885  0.89567017 12.45728517]]\n",
      "\n",
      "\n",
      "[[ 0.09449387  0.97566706  0.19785017 -2.12419184]\n",
      " [-0.75316188  0.20002654 -0.62668698  1.84550818]\n",
      " [-0.65101313 -0.08979513  0.75373652 12.81229187]]\n",
      "\n",
      "\n",
      "[[-0.92086474  0.36672175  0.13237558  3.03685642]\n",
      " [-0.31481472 -0.89968619  0.30241768  2.74656588]\n",
      " [ 0.22999962  0.23681199  0.94393869  9.90005138]]\n",
      "\n",
      "\n",
      "[[-0.97102471  0.01119766  0.23871662  2.82321756]\n",
      " [ 0.01646123 -0.99339509  0.11355711  2.22374307]\n",
      " [ 0.23841149  0.11419633  0.96442686 10.95762951]]\n",
      "\n",
      "\n",
      "[[-0.19398737  0.97117073  0.13855077 -1.13991523]\n",
      " [-0.86334948 -0.23607533  0.44597771  2.67424464]\n",
      " [ 0.46582892 -0.03310369  0.88425537  9.56289277]]\n",
      "\n",
      "\n",
      "[[ 0.09035979  0.89591846  0.43493129  1.60364763]\n",
      " [-0.9925907   0.1166383  -0.03404703  3.81296375]\n",
      " [-0.08123301 -0.42863228  0.89981974 16.12054474]]\n",
      "\n",
      "\n",
      "[[ 0.3196801   0.90154405  0.29158697 -5.94286695]\n",
      " [-0.94599805  0.28620967  0.15222259  2.39629427]\n",
      " [ 0.05378036 -0.32450324  0.94435445 16.77859026]]\n",
      "\n",
      "\n",
      "[[ 0.24448145  0.94949021  0.19671593 -3.27916485]\n",
      " [-0.91522284  0.15894416  0.37027545  2.15811689]\n",
      " [ 0.32030607 -0.27056439  0.90785403 11.72833343]]\n",
      "\n",
      "\n"
     ]
    }
   ],
   "source": [
    "Mext=[]\n",
    "for i in range(len(Rm)):\n",
    "    Rt_matrix = np.concatenate((Rm[i],tvecs[i]), axis=1)\n",
    "    Mext.append(Rt_matrix)\n",
    "    print(Rt_matrix)\n",
    "    print(\"\\n\")"
   ]
  },
  {
   "cell_type": "code",
   "execution_count": 15,
   "metadata": {},
   "outputs": [],
   "source": [
    "import numpy"
   ]
  },
  {
   "cell_type": "code",
   "execution_count": 16,
   "metadata": {},
   "outputs": [
    {
     "name": "stdout",
     "output_type": "stream",
     "text": [
      "[[[-4.20818148e+02 -6.11700780e+01  4.70156932e+02  7.10303538e+03]\n",
      "  [ 4.45519202e+01 -5.64957870e+02  1.35590083e+02  3.94155712e+03]\n",
      "  [ 2.71751068e-01 -1.63273781e-01  9.48416063e-01  1.48593055e+01]]\n",
      "\n",
      " [[ 1.23637697e+02  5.10618942e+02  3.54766471e+02  2.06367529e+03]\n",
      "  [-4.09585212e+02 -3.21169746e+01  4.13225596e+02  3.86361442e+03]\n",
      "  [ 3.70962163e-01 -6.45998576e-02  9.26398366e-01  1.05769926e+01]]\n",
      "\n",
      " [[-3.18859623e+02  4.44216282e+02  3.20745489e+02  4.69952348e+03]\n",
      "  [-5.52336834e+02 -1.77080640e+02 -5.57979247e+01  5.53183156e+03]\n",
      "  [-4.50603040e-01 -1.85169023e-01  8.73309414e-01  1.56731179e+01]]\n",
      "\n",
      " [[ 1.54859915e+02 -6.09317938e+02  8.14081749e+01  5.22599903e+03]\n",
      "  [ 5.66922600e+02  3.10281350e+01  1.31083786e+02  6.24230476e+02]\n",
      "  [ 2.24799463e-01 -3.83718847e-01  8.95670167e-01  1.24572852e+01]]\n",
      "\n",
      " [[-1.71876742e+02  4.90407274e+02  3.63092722e+02  3.24136525e+03]\n",
      "  [-5.53928856e+02  8.59206215e+01 -1.59145870e+02  3.97028895e+03]\n",
      "  [-6.51013132e-01 -8.97951290e-02  7.53736517e-01  1.28122919e+01]]\n",
      "\n",
      " [[-4.13254335e+02  2.76734772e+02  3.93085174e+02  5.00310149e+03]\n",
      "  [-1.14571156e+02 -4.25375296e+02  3.81413486e+02  3.77316735e+03]\n",
      "  [ 2.29999624e-01  2.36811992e-01  9.43938691e-01  9.90005138e+00]]\n",
      "\n",
      " [[-4.37170377e+02  4.49822859e+01  4.56876229e+02  5.25020216e+03]\n",
      "  [ 6.43291803e+01 -5.03989799e+02  2.85312072e+02  3.74027591e+03]\n",
      "  [ 2.38411490e-01  1.14196333e-01  9.64426855e-01  1.09576295e+01]]\n",
      "\n",
      " [[ 5.54934424e+01  5.07367970e+02  3.75999275e+02  2.65725821e+03]\n",
      "  [-3.52618664e+02 -1.33803715e+02  4.44188679e+02  3.65599956e+03]\n",
      "  [ 4.65828918e-01 -3.31036931e-02  8.84255373e-01  9.56289277e+00]]\n",
      "\n",
      " [[ 2.05146899e+01  3.32091432e+02  5.39603245e+02  6.36217685e+03]\n",
      "  [-5.49084576e+02 -3.75492785e+01  1.91423926e+02  5.79178776e+03]\n",
      "  [-8.12330085e-02 -4.28632278e-01  8.99819742e-01  1.61205447e+01]]\n",
      "\n",
      " [[ 1.89099658e+02  3.70659515e+02  4.78257333e+02  2.55654811e+03]\n",
      "  [-4.92747769e+02  7.72784456e+01  3.01288263e+02  5.18840630e+03]\n",
      "  [ 5.37803617e-02 -3.24503236e-01  9.44354448e-01  1.67785903e+01]]\n",
      "\n",
      " [[ 2.39965860e+02  4.14688118e+02  4.15123337e+02  2.25431905e+03]\n",
      "  [-4.14224135e+02  2.18683205e+01  4.09251856e+02  3.88475584e+03]\n",
      "  [ 3.20306069e-01 -2.70564391e-01  9.07854026e-01  1.17283334e+01]]]\n",
      "[[[-4.20818148e+02 -6.11700780e+01  4.70156932e+02  7.10303538e+03]\n",
      "  [ 4.45519202e+01 -5.64957870e+02  1.35590083e+02  3.94155712e+03]\n",
      "  [ 2.71751068e-01 -1.63273781e-01  9.48416063e-01  1.48593055e+01]]\n",
      "\n",
      " [[ 1.23637697e+02  5.10618942e+02  3.54766471e+02  2.06367529e+03]\n",
      "  [-4.09585212e+02 -3.21169746e+01  4.13225596e+02  3.86361442e+03]\n",
      "  [ 3.70962163e-01 -6.45998576e-02  9.26398366e-01  1.05769926e+01]]\n",
      "\n",
      " [[-3.18859623e+02  4.44216282e+02  3.20745489e+02  4.69952348e+03]\n",
      "  [-5.52336834e+02 -1.77080640e+02 -5.57979247e+01  5.53183156e+03]\n",
      "  [-4.50603040e-01 -1.85169023e-01  8.73309414e-01  1.56731179e+01]]\n",
      "\n",
      " [[ 1.54859915e+02 -6.09317938e+02  8.14081749e+01  5.22599903e+03]\n",
      "  [ 5.66922600e+02  3.10281350e+01  1.31083786e+02  6.24230476e+02]\n",
      "  [ 2.24799463e-01 -3.83718847e-01  8.95670167e-01  1.24572852e+01]]\n",
      "\n",
      " [[-1.71876742e+02  4.90407274e+02  3.63092722e+02  3.24136525e+03]\n",
      "  [-5.53928856e+02  8.59206215e+01 -1.59145870e+02  3.97028895e+03]\n",
      "  [-6.51013132e-01 -8.97951290e-02  7.53736517e-01  1.28122919e+01]]\n",
      "\n",
      " [[-4.13254335e+02  2.76734772e+02  3.93085174e+02  5.00310149e+03]\n",
      "  [-1.14571156e+02 -4.25375296e+02  3.81413486e+02  3.77316735e+03]\n",
      "  [ 2.29999624e-01  2.36811992e-01  9.43938691e-01  9.90005138e+00]]\n",
      "\n",
      " [[-4.37170377e+02  4.49822859e+01  4.56876229e+02  5.25020216e+03]\n",
      "  [ 6.43291803e+01 -5.03989799e+02  2.85312072e+02  3.74027591e+03]\n",
      "  [ 2.38411490e-01  1.14196333e-01  9.64426855e-01  1.09576295e+01]]\n",
      "\n",
      " [[ 5.54934424e+01  5.07367970e+02  3.75999275e+02  2.65725821e+03]\n",
      "  [-3.52618664e+02 -1.33803715e+02  4.44188679e+02  3.65599956e+03]\n",
      "  [ 4.65828918e-01 -3.31036931e-02  8.84255373e-01  9.56289277e+00]]\n",
      "\n",
      " [[ 2.05146899e+01  3.32091432e+02  5.39603245e+02  6.36217685e+03]\n",
      "  [-5.49084576e+02 -3.75492785e+01  1.91423926e+02  5.79178776e+03]\n",
      "  [-8.12330085e-02 -4.28632278e-01  8.99819742e-01  1.61205447e+01]]\n",
      "\n",
      " [[ 1.89099658e+02  3.70659515e+02  4.78257333e+02  2.55654811e+03]\n",
      "  [-4.92747769e+02  7.72784456e+01  3.01288263e+02  5.18840630e+03]\n",
      "  [ 5.37803617e-02 -3.24503236e-01  9.44354448e-01  1.67785903e+01]]\n",
      "\n",
      " [[ 2.39965860e+02  4.14688118e+02  4.15123337e+02  2.25431905e+03]\n",
      "  [-4.14224135e+02  2.18683205e+01  4.09251856e+02  3.88475584e+03]\n",
      "  [ 3.20306069e-01 -2.70564391e-01  9.07854026e-01  1.17283334e+01]]]\n",
      "[[[-4.20818148e+02 -6.11700780e+01  4.70156932e+02  7.10303538e+03]\n",
      "  [ 4.45519202e+01 -5.64957870e+02  1.35590083e+02  3.94155712e+03]\n",
      "  [ 2.71751068e-01 -1.63273781e-01  9.48416063e-01  1.48593055e+01]]\n",
      "\n",
      " [[ 1.23637697e+02  5.10618942e+02  3.54766471e+02  2.06367529e+03]\n",
      "  [-4.09585212e+02 -3.21169746e+01  4.13225596e+02  3.86361442e+03]\n",
      "  [ 3.70962163e-01 -6.45998576e-02  9.26398366e-01  1.05769926e+01]]\n",
      "\n",
      " [[-3.18859623e+02  4.44216282e+02  3.20745489e+02  4.69952348e+03]\n",
      "  [-5.52336834e+02 -1.77080640e+02 -5.57979247e+01  5.53183156e+03]\n",
      "  [-4.50603040e-01 -1.85169023e-01  8.73309414e-01  1.56731179e+01]]\n",
      "\n",
      " [[ 1.54859915e+02 -6.09317938e+02  8.14081749e+01  5.22599903e+03]\n",
      "  [ 5.66922600e+02  3.10281350e+01  1.31083786e+02  6.24230476e+02]\n",
      "  [ 2.24799463e-01 -3.83718847e-01  8.95670167e-01  1.24572852e+01]]\n",
      "\n",
      " [[-1.71876742e+02  4.90407274e+02  3.63092722e+02  3.24136525e+03]\n",
      "  [-5.53928856e+02  8.59206215e+01 -1.59145870e+02  3.97028895e+03]\n",
      "  [-6.51013132e-01 -8.97951290e-02  7.53736517e-01  1.28122919e+01]]\n",
      "\n",
      " [[-4.13254335e+02  2.76734772e+02  3.93085174e+02  5.00310149e+03]\n",
      "  [-1.14571156e+02 -4.25375296e+02  3.81413486e+02  3.77316735e+03]\n",
      "  [ 2.29999624e-01  2.36811992e-01  9.43938691e-01  9.90005138e+00]]\n",
      "\n",
      " [[-4.37170377e+02  4.49822859e+01  4.56876229e+02  5.25020216e+03]\n",
      "  [ 6.43291803e+01 -5.03989799e+02  2.85312072e+02  3.74027591e+03]\n",
      "  [ 2.38411490e-01  1.14196333e-01  9.64426855e-01  1.09576295e+01]]\n",
      "\n",
      " [[ 5.54934424e+01  5.07367970e+02  3.75999275e+02  2.65725821e+03]\n",
      "  [-3.52618664e+02 -1.33803715e+02  4.44188679e+02  3.65599956e+03]\n",
      "  [ 4.65828918e-01 -3.31036931e-02  8.84255373e-01  9.56289277e+00]]\n",
      "\n",
      " [[ 2.05146899e+01  3.32091432e+02  5.39603245e+02  6.36217685e+03]\n",
      "  [-5.49084576e+02 -3.75492785e+01  1.91423926e+02  5.79178776e+03]\n",
      "  [-8.12330085e-02 -4.28632278e-01  8.99819742e-01  1.61205447e+01]]\n",
      "\n",
      " [[ 1.89099658e+02  3.70659515e+02  4.78257333e+02  2.55654811e+03]\n",
      "  [-4.92747769e+02  7.72784456e+01  3.01288263e+02  5.18840630e+03]\n",
      "  [ 5.37803617e-02 -3.24503236e-01  9.44354448e-01  1.67785903e+01]]\n",
      "\n",
      " [[ 2.39965860e+02  4.14688118e+02  4.15123337e+02  2.25431905e+03]\n",
      "  [-4.14224135e+02  2.18683205e+01  4.09251856e+02  3.88475584e+03]\n",
      "  [ 3.20306069e-01 -2.70564391e-01  9.07854026e-01  1.17283334e+01]]]\n"
     ]
    }
   ],
   "source": [
    "Ms=[]\n",
    "for i in range(len(mtx)):\n",
    "    M=numpy.matmul(mtx,Mext)\n",
    "    Ms.append(M)\n",
    "    print(M)"
   ]
  },
  {
   "cell_type": "code",
   "execution_count": 17,
   "metadata": {},
   "outputs": [],
   "source": [
    "from matplotlib import pyplot as plt\n",
    "from mpl_toolkits.mplot3d import Axes3D\n"
   ]
  },
  {
   "cell_type": "code",
   "execution_count": 18,
   "metadata": {},
   "outputs": [],
   "source": [
    "def update_graph(num):\n",
    "    # Load point cloud from data frame\n",
    "    tp=np.vstack((df['x'],df['y'],df['z'],df['w']))\n",
    "    #angle = num*0.01\n",
    "    # Create uniform scaling matrix \n",
    "    M = scaling_matrix([0.5,0.5,0.5])\n",
    "    M = scaling_matrix([1.0,1.0,-1.0])\n",
    "    tp_r = np.dot(M,tp)\n",
    "    graph._offsets3d = (tp_r[0,:], tp_r[1,:], tp_r[2,:])\n",
    "    return graph"
   ]
  },
  {
   "cell_type": "code",
   "execution_count": 19,
   "metadata": {},
   "outputs": [
    {
     "data": {
      "image/png": "[encoded data removed]",
      "text/plain": [
       "<Figure size 432x288 with 1 Axes>"
      ]
     },
     "metadata": {
      "needs_background": "light"
     },
     "output_type": "display_data"
    }
   ],
   "source": [
    "# 3D figure generation\n",
    "\n",
    "fig = plt.figure()\n",
    "ax = fig.add_subplot(111, projection='3d')\n",
    "title = ax.set_title('Teapot')\n",
    "\n",
    "# 3D scatter plot\n",
    "graph = ax.scatter(tp[0,:], tp[1,:], tp[2,:])\n",
    "# # Change axis limits if necessary\n",
    "# ax.set_xlim3d(-8, 8)\n",
    "# ax.set_ylim3d(-8, 8)\n",
    "# ax.set_zlim3d(-1, 8)\n",
    "\n",
    "# Animation function\n",
    "ani = matplotlib.animation.FuncAnimation(fig, update_graph,1000, \n",
    "                                            interval=1, blit=False)\n",
    "\n",
    "\n",
    "plt.show()"
   ]
  },
  {
   "cell_type": "code",
   "execution_count": null,
   "metadata": {},
   "outputs": [],
   "source": [
    "img=mpimg.imread('left1.jpg')\n",
    "fig,ax = plt.subplots()\n",
    "ax.imshow(img)"
   ]
  }
 ],
 "metadata": {
  "anaconda-cloud": {},
  "kernelspec": {
   "display_name": "Python 3",
   "language": "python",
   "name": "python3"
  },
  "language_info": {
   "codemirror_mode": {
    "name": "ipython",
    "version": 3
   },
   "file_extension": ".py",
   "mimetype": "text/x-python",
   "name": "python",
   "nbconvert_exporter": "python",
   "pygments_lexer": "ipython3",
   "version": "3.7.4"
  },
  "toc": {
   "colors": {
    "hover_highlight": "#DAA520",
    "running_highlight": "#FF0000",
    "selected_highlight": "#FFD700"
   },
   "moveMenuLeft": true,
   "nav_menu": {
    "height": "12px",
    "width": "252px"
   },
   "navigate_menu": true,
   "number_sections": true,
   "sideBar": true,
   "threshold": 4,
   "toc_cell": false,
   "toc_section_display": "block",
   "toc_window_display": false,
   "widenNotebook": false
  }
 },
 "nbformat": 4,
 "nbformat_minor": 1
}
